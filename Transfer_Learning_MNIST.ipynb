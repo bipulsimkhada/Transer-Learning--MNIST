{
  "cells": [
    {
      "cell_type": "markdown",
      "metadata": {
        "id": "view-in-github",
        "colab_type": "text"
      },
      "source": [
        "<a href=\"https://colab.research.google.com/github/bipulsimkhada/Transer-Learning--MNIST/blob/main/Transfer_Learning_MNIST.ipynb\" target=\"_parent\"><img src=\"https://colab.research.google.com/assets/colab-badge.svg\" alt=\"Open In Colab\"/></a>"
      ]
    },
    {
      "cell_type": "markdown",
      "metadata": {
        "id": "RJmJetfEgiuM"
      },
      "source": [
        "## Transfer Learning using MNIST data\n",
        "To illustrate the power and concept of transfer learning, we will train a CNN on just the digits 5,6,7,8,9.  Then we will train just the last layer(s) of the network on the digits 0,1,2,3,4 and see how well the features learned on 5-9 help with classifying 0-4.\n",
        "\n"
      ]
    },
    {
      "cell_type": "code",
      "execution_count": null,
      "metadata": {
        "id": "00J423kMgiuQ"
      },
      "outputs": [],
      "source": [
        "\n",
        "\n",
        "import datetime\n",
        "import keras\n",
        "import numpy as np\n",
        "import tensorflow as tf\n",
        "from keras.datasets import mnist\n",
        "from keras.models import Sequential\n",
        "from keras.layers import Dense, Dropout, Activation, Flatten\n",
        "from keras.layers import Conv2D, MaxPooling2D\n",
        "from keras import backend as K"
      ]
    },
    {
      "cell_type": "code",
      "execution_count": null,
      "metadata": {
        "collapsed": true,
        "id": "hw1x-XVygiuS"
      },
      "outputs": [],
      "source": [
        "#used to help some of the timing functions\n",
        "now = datetime.datetime.now"
      ]
    },
    {
      "cell_type": "code",
      "execution_count": null,
      "metadata": {
        "collapsed": true,
        "id": "0niUiqgegiuS"
      },
      "outputs": [],
      "source": [
        "# set some parameters\n",
        "batch_size = 128\n",
        "num_classes = 5\n",
        "epochs = 5"
      ]
    },
    {
      "cell_type": "code",
      "execution_count": null,
      "metadata": {
        "collapsed": true,
        "id": "Hf7EVUSDgiuT"
      },
      "outputs": [],
      "source": [
        "# set some more parameters\n",
        "img_rows, img_cols = 28, 28\n",
        "filters = 32\n",
        "pool_size = 2\n",
        "kernel_size = 3"
      ]
    },
    {
      "cell_type": "code",
      "execution_count": null,
      "metadata": {
        "collapsed": true,
        "id": "4BghnNNXgiuT"
      },
      "outputs": [],
      "source": [
        "input_shape = (img_rows, img_cols,1)"
      ]
    },
    {
      "cell_type": "code",
      "execution_count": null,
      "metadata": {
        "collapsed": true,
        "id": "Zx5WyUUBgiuU"
      },
      "outputs": [],
      "source": [
        "## To simplify things, write a function to include all the training steps\n",
        "## As input, function takes a model, training set, test set, and the number of classes\n",
        "## Inside the model object will be the state about which layers we are freezing and which we are training\n",
        "\n",
        "def train_model(model, train, test, num_classes):\n",
        "  #Reshape the data\n",
        "  x_train = train[0].reshape((train[0].shape[0],)+ input_shape)\n",
        "  x_test = test[0].reshape((test[0].shape[0],)+ input_shape)\n",
        "\n",
        "  #Normalize the data\n",
        "  x_train = x_train.astype('float32')\n",
        "  x_test = x_test.astype('float32')\n",
        "  x_train = x_train/255\n",
        "  x_test = x_test/255\n",
        "\n",
        "  print('x_train shape: ', x_train.shape)\n",
        "  print(x_train.shape[0],'train samples')\n",
        "  print(x_test.shape[0], 'test samples')\n",
        "\n",
        "  # One hot encode the targert label\n",
        "  y_train = keras.utils.to_categorical(train[1], num_classes)\n",
        "  y_test = keras.utils.to_categorical(test[1], num_classes)\n",
        "\n",
        "  # Compile the model\n",
        "  model.compile(loss='categorical_crossentropy', optimizer = 'adadelta', metrics = ['accuracy'])\n",
        "\n",
        "  # Train the model on the training data\n",
        "  t = now()\n",
        "  model.fit(x_train, y_train, batch_size = batch_size, epochs = epochs,\n",
        "            verbose =1, validation_data = (x_test,y_test))\n",
        "  print('Training time: %s'% (now()-t))\n",
        "\n",
        "  # Evaluate the model on the testing data\n",
        "  score = model.evaluate(x_test,y_test, verbose = 0)\n",
        "  print('Test score: ', score[0])\n",
        "  print('Test accuracy: ', score[1])\n",
        "\n"
      ]
    },
    {
      "cell_type": "code",
      "execution_count": null,
      "metadata": {
        "id": "KejjIrDygiuV"
      },
      "outputs": [],
      "source": [
        "# Load the Mnist data and split between train and test sets\n",
        "(x_train,y_train),(x_test,y_test) = mnist.load_data()\n",
        "# create two datasets: one with digits below 5 and one with 5 and above\n",
        "x_train_lt5 = x_train[y_train<5]\n",
        "x_train_gte5 = x_train[y_train>=5]\n",
        "\n",
        "y_train_lt5 = y_train[y_train<5]\n",
        "y_train_gte5 = y_train[y_train>=5]-5\n",
        "\n",
        "x_test_lt5 = x_test[y_test<5]\n",
        "x_test_gte5 = x_test[y_test>=5]\n",
        "\n",
        "y_test_lt5 = y_test[y_test<5]\n",
        "y_test_gte5 = y_test[y_test>=5]-5"
      ]
    },
    {
      "cell_type": "code",
      "execution_count": null,
      "metadata": {
        "collapsed": true,
        "id": "oe9E01LIgiuW"
      },
      "outputs": [],
      "source": [
        "# Define the \"feature\" layers. Add 2 convolution layer with max pool layer. At the end, add dropout layer with 0.25% probability and end with the flatten layer. These are the early layers that we expect will \"transfer\"\n",
        "# to a new problem.  We will freeze these layers during the fine-tuning process\n",
        "\n",
        "feature_layers = [\n",
        "  Conv2D(filters, kernel_size,\n",
        "         padding = 'valid',\n",
        "         input_shape = input_shape),\n",
        "  Activation('relu'),\n",
        "  Conv2D(filters, kernel_size),\n",
        "  Activation('relu'),\n",
        "  MaxPooling2D(pool_size=pool_size),\n",
        "  Dropout(0.25),\n",
        "  Flatten()\n",
        "]"
      ]
    },
    {
      "cell_type": "code",
      "execution_count": null,
      "metadata": {
        "collapsed": true,
        "id": "ak-TPz0UgiuX"
      },
      "outputs": [],
      "source": [
        "# Define the \"classification\" layers. Add Dense layer with 128 nodes and the output dense layer. These are the later layers that predict the specific classes from the features\n",
        "# learned by the feature layers.  This is the part of the model that needs to be re-trained for a new problem\n",
        "\n",
        "classification_layers = [\n",
        "    Dense(128),\n",
        "    Activation('relu'),\n",
        "    Dropout(0.5),\n",
        "    Dense(num_classes),\n",
        "    Activation('softmax')\n",
        "\n",
        "]"
      ]
    },
    {
      "cell_type": "code",
      "execution_count": null,
      "metadata": {
        "collapsed": true,
        "id": "2Xr54zn0giuX"
      },
      "outputs": [],
      "source": [
        "# Create the model by combining the two sets of layers:\n",
        "model = Sequential(feature_layers + classification_layers)"
      ]
    },
    {
      "cell_type": "code",
      "execution_count": null,
      "metadata": {
        "id": "nm9soRe7giuY",
        "colab": {
          "base_uri": "https://localhost:8080/"
        },
        "outputId": "a377ce41-d418-44b1-baa3-44e8cadea198"
      },
      "outputs": [
        {
          "output_type": "stream",
          "name": "stdout",
          "text": [
            "Model: \"sequential_2\"\n",
            "_________________________________________________________________\n",
            " Layer (type)                Output Shape              Param #   \n",
            "=================================================================\n",
            " conv2d_6 (Conv2D)           (None, 26, 26, 32)        320       \n",
            "                                                                 \n",
            " activation_12 (Activation)  (None, 26, 26, 32)        0         \n",
            "                                                                 \n",
            " conv2d_7 (Conv2D)           (None, 24, 24, 32)        9248      \n",
            "                                                                 \n",
            " activation_13 (Activation)  (None, 24, 24, 32)        0         \n",
            "                                                                 \n",
            " max_pooling2d_3 (MaxPooling  (None, 12, 12, 32)       0         \n",
            " 2D)                                                             \n",
            "                                                                 \n",
            " dropout_6 (Dropout)         (None, 12, 12, 32)        0         \n",
            "                                                                 \n",
            " flatten_3 (Flatten)         (None, 4608)              0         \n",
            "                                                                 \n",
            " dense_6 (Dense)             (None, 128)               589952    \n",
            "                                                                 \n",
            " activation_14 (Activation)  (None, 128)               0         \n",
            "                                                                 \n",
            " dropout_7 (Dropout)         (None, 128)               0         \n",
            "                                                                 \n",
            " dense_7 (Dense)             (None, 5)                 645       \n",
            "                                                                 \n",
            " activation_15 (Activation)  (None, 5)                 0         \n",
            "                                                                 \n",
            "=================================================================\n",
            "Total params: 600,165\n",
            "Trainable params: 600,165\n",
            "Non-trainable params: 0\n",
            "_________________________________________________________________\n"
          ]
        }
      ],
      "source": [
        "# print model summary\n",
        "model.summary()"
      ]
    },
    {
      "cell_type": "code",
      "execution_count": null,
      "metadata": {
        "id": "dQkDZX4CgiuY",
        "colab": {
          "base_uri": "https://localhost:8080/"
        },
        "outputId": "e5c2ac12-13c3-4bba-e6b9-93d66f22136c"
      },
      "outputs": [
        {
          "output_type": "stream",
          "name": "stdout",
          "text": [
            "x_train shape:  (29404, 28, 28, 1)\n",
            "29404 train samples\n",
            "4861 test samples\n",
            "Epoch 1/5\n",
            "230/230 [==============================] - 35s 150ms/step - loss: 1.5998 - accuracy: 0.2665 - val_loss: 1.5742 - val_accuracy: 0.3699\n",
            "Epoch 2/5\n",
            "230/230 [==============================] - 35s 150ms/step - loss: 1.5669 - accuracy: 0.3121 - val_loss: 1.5354 - val_accuracy: 0.3845\n",
            "Epoch 3/5\n",
            "230/230 [==============================] - 35s 150ms/step - loss: 1.5298 - accuracy: 0.3670 - val_loss: 1.4931 - val_accuracy: 0.4546\n",
            "Epoch 4/5\n",
            "230/230 [==============================] - 35s 151ms/step - loss: 1.4921 - accuracy: 0.4234 - val_loss: 1.4472 - val_accuracy: 0.5775\n",
            "Epoch 5/5\n",
            "230/230 [==============================] - 35s 154ms/step - loss: 1.4504 - accuracy: 0.4903 - val_loss: 1.3974 - val_accuracy: 0.6692\n",
            "Training time: 0:03:22.642624\n",
            "Test score:  1.3973960876464844\n",
            "Test accuracy:  0.6692038774490356\n"
          ]
        }
      ],
      "source": [
        "# Now, let's train our model on the digits 5,6,7,8,9\n",
        "train_model (model,\n",
        "            (x_train_gte5, y_train_gte5),\n",
        "            (x_test_gte5, y_test_gte5), num_classes)\n"
      ]
    },
    {
      "cell_type": "markdown",
      "metadata": {
        "id": "RFQ3FOaggiuZ"
      },
      "source": [
        "### Freezing Layers\n",
        "Keras allows layers to be \"frozen\" during the training process.  That is, some layers would have their weights updated during the training process, while others would not.  This is a core part of transfer learning, the ability to train just the last one or several layers.\n",
        "\n",
        "Note also, that a lot of the training time is spent \"back-propagating\" the gradients back to the first layer.  Therefore, if we only need to compute the gradients back a small number of layers, the training time is much quicker per iteration.  This is in addition to the savings gained by being able to train on a smaller data set."
      ]
    },
    {
      "cell_type": "code",
      "execution_count": null,
      "metadata": {
        "collapsed": true,
        "id": "KpNBDuEFgiuZ"
      },
      "outputs": [],
      "source": [
        "# Freeze only the feature layers\n",
        "for l in feature_layers:\n",
        "  l.trainable = False"
      ]
    },
    {
      "cell_type": "markdown",
      "metadata": {
        "id": "uCCEziUTgiua"
      },
      "source": [
        "Observe below the differences between the number of *total params*, *trainable params*, and *non-trainable params*."
      ]
    },
    {
      "cell_type": "code",
      "execution_count": null,
      "metadata": {
        "id": "9lBV_rGbgiua",
        "colab": {
          "base_uri": "https://localhost:8080/"
        },
        "outputId": "311d177e-7294-4f0b-be7f-bb8480b20749"
      },
      "outputs": [
        {
          "output_type": "stream",
          "name": "stdout",
          "text": [
            "Model: \"sequential_2\"\n",
            "_________________________________________________________________\n",
            " Layer (type)                Output Shape              Param #   \n",
            "=================================================================\n",
            " conv2d_6 (Conv2D)           (None, 26, 26, 32)        320       \n",
            "                                                                 \n",
            " activation_12 (Activation)  (None, 26, 26, 32)        0         \n",
            "                                                                 \n",
            " conv2d_7 (Conv2D)           (None, 24, 24, 32)        9248      \n",
            "                                                                 \n",
            " activation_13 (Activation)  (None, 24, 24, 32)        0         \n",
            "                                                                 \n",
            " max_pooling2d_3 (MaxPooling  (None, 12, 12, 32)       0         \n",
            " 2D)                                                             \n",
            "                                                                 \n",
            " dropout_6 (Dropout)         (None, 12, 12, 32)        0         \n",
            "                                                                 \n",
            " flatten_3 (Flatten)         (None, 4608)              0         \n",
            "                                                                 \n",
            " dense_6 (Dense)             (None, 128)               589952    \n",
            "                                                                 \n",
            " activation_14 (Activation)  (None, 128)               0         \n",
            "                                                                 \n",
            " dropout_7 (Dropout)         (None, 128)               0         \n",
            "                                                                 \n",
            " dense_7 (Dense)             (None, 5)                 645       \n",
            "                                                                 \n",
            " activation_15 (Activation)  (None, 5)                 0         \n",
            "                                                                 \n",
            "=================================================================\n",
            "Total params: 600,165\n",
            "Trainable params: 590,597\n",
            "Non-trainable params: 9,568\n",
            "_________________________________________________________________\n"
          ]
        }
      ],
      "source": [
        "# print model summary\n",
        "model.summary()"
      ]
    },
    {
      "cell_type": "code",
      "execution_count": null,
      "metadata": {
        "id": "yy-BtW6tgiua",
        "colab": {
          "base_uri": "https://localhost:8080/"
        },
        "outputId": "d39f78d0-3e6d-4117-c08c-c7abc06e2f8d"
      },
      "outputs": [
        {
          "output_type": "stream",
          "name": "stdout",
          "text": [
            "x_train shape:  (30596, 28, 28, 1)\n",
            "30596 train samples\n",
            "5139 test samples\n",
            "Epoch 1/5\n",
            "240/240 [==============================] - 13s 51ms/step - loss: 1.5776 - accuracy: 0.2888 - val_loss: 1.5322 - val_accuracy: 0.4374\n",
            "Epoch 2/5\n",
            "240/240 [==============================] - 12s 50ms/step - loss: 1.5227 - accuracy: 0.3659 - val_loss: 1.4756 - val_accuracy: 0.5336\n",
            "Epoch 3/5\n",
            "240/240 [==============================] - 12s 50ms/step - loss: 1.4721 - accuracy: 0.4299 - val_loss: 1.4211 - val_accuracy: 0.5978\n",
            "Epoch 4/5\n",
            "240/240 [==============================] - 12s 50ms/step - loss: 1.4217 - accuracy: 0.4886 - val_loss: 1.3672 - val_accuracy: 0.6385\n",
            "Epoch 5/5\n",
            "240/240 [==============================] - 12s 50ms/step - loss: 1.3728 - accuracy: 0.5422 - val_loss: 1.3150 - val_accuracy: 0.6602\n",
            "Training time: 0:01:00.764486\n",
            "Test score:  1.3150269985198975\n",
            "Test accuracy:  0.6602451801300049\n"
          ]
        }
      ],
      "source": [
        "# Now, let's train our model on the digits 0,1,2,3,4\n",
        "train_model (model,\n",
        "            (x_train_lt5, y_train_lt5),\n",
        "            (x_test_lt5, y_test_lt5), num_classes)"
      ]
    },
    {
      "cell_type": "markdown",
      "metadata": {
        "id": "3E6Z3O-Ugiua"
      },
      "source": [
        "Note that after a single epoch, we are already achieving results on classifying 0-4 that are comparable to those achieved on 5-9 after 5 full epochs.  This despite the fact the we are only \"fine-tuning\" the last layer of the network, and all the early layers have never seen what the digits 0-4 look like.\n",
        "\n",
        "Also, note that even though nearly all (590K/600K) of the *parameters* were trainable, the training time per epoch was still much reduced.  This is because the unfrozen part of the network was very shallow, making backpropagation faster. "
      ]
    },
    {
      "cell_type": "code",
      "execution_count": null,
      "metadata": {
        "collapsed": true,
        "id": "uJrV-MDhgiub"
      },
      "outputs": [],
      "source": []
    }
  ],
  "metadata": {
    "kernelspec": {
      "display_name": "Python 3",
      "language": "python",
      "name": "python3"
    },
    "language_info": {
      "codemirror_mode": {
        "name": "ipython",
        "version": 3
      },
      "file_extension": ".py",
      "mimetype": "text/x-python",
      "name": "python",
      "nbconvert_exporter": "python",
      "pygments_lexer": "ipython3",
      "version": "3.6.2"
    },
    "colab": {
      "provenance": [],
      "include_colab_link": true
    }
  },
  "nbformat": 4,
  "nbformat_minor": 0
}